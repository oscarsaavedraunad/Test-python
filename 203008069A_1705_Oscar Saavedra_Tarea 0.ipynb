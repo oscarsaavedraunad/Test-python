{
 "cells": [
  {
   "cell_type": "markdown",
   "id": "8f7913e4-ef3c-4394-95d3-6200fd2cd216",
   "metadata": {
    "jp-MarkdownHeadingCollapsed": true
   },
   "source": [
    "<div style=\"text-align: center;\">\n",
    "    <h1>PROGRAMACIÓN PARA EL ANÁLSIS DE DATOS</h1>\n",
    "        <br>\n",
    "            <h2>Tarea 0 - Reconocimiento de saberes</h2>\n",
    "                <br><br><br>\n",
    "                <p style=\"text-align: center;\">OSCAR ISIDRO SAAVEDRA RIVERA\n",
    "                <br>Grupo: 203008069A_1705<br>\n",
    "                <br><br><br><br><br>\n",
    "                Tutor: FELIPE ALEXANDER PIPICANO GUZMAN<br>\n",
    "                <br><br><br><br><br>\n",
    "                Universidad Nacional Abierta y a Distancia - UNAD<br>\n",
    "                Escuela de Ciencias Básicas, Tecnología e Ingeniería - ACBTI<br>\n",
    "                Especialización en Ciencia de Datos y Analítica<br>\n",
    "                Octubre 2024<br>\n",
    "                    <br><br><br>\n",
    "                </p>\n",
    "</div>\n",
    "                        \n",
    "    "
   ]
  },
  {
   "cell_type": "markdown",
   "id": "56c20314-f5af-4bbc-b365-377add857466",
   "metadata": {},
   "source": [
    "# INTRODUCIÓN\n",
    "\n",
    "La instalación de las herramientas para la clase de ***Programación para el análisis de datos***, resulta muy intuitiva al seguir las indicaciones de la documentación de referencia. Para el caso de la suite de **ANACONA**, resulta muy fácil la instalación y el inicio de la aplicación con lo que se puede iniciar el proceso de aprendizaje de las demás herramientas que ofrece la suite logrando mantener una gran expectativa.\n",
    "\n",
    "![Captura de Pantalla](http://localhost:8888/files/OneDrive%20-%20Universidad%20Nacional%20Abierta%20y%20a%20Distancia/e_CDA/PROGRAMACI%C3%93N%20PARA%20EL%20AN%C3%81LISIS%20DE%20DATOS/Unidad_1/Captura%20de%20pantalla%202024-10-20%20205015.png?_xsrf=2%7C52b7f766%7C08d99be424c0abe094146cf02c516bfb%7C1729402586)\n"
   ]
  },
  {
   "cell_type": "markdown",
   "id": "c2b06db6-cc20-4334-853a-fb8287ed71f5",
   "metadata": {},
   "source": [
    "### Que es Jupyter y cómo puede serle útil a un cientifico de datos?\n",
    "\n",
    "Es una herramienta que viene en la suit de Anacona y permite a los cientificos de datos crear archivos compartibles con código, visualizaciones, texto. Esto le permite a los cientifiocos de datos realizar trabajos colaborativos y ver sobre el mismo archivo la ejecución del código.\n",
    "\n",
    "### ¿Qué es una celda markdown?\n",
    "\n",
    "Es un espacio en los notebook donde se puede escribir texto y darle el formato requerido con las instruciones del lenguaje Markdown. Es muy útil para explicar y documentar los que se está haciendo en el notbook.\n",
    "\n",
    "### ¿Que es un paquete (o librería) en Python?\n",
    "\n",
    "Las librerías son paquetes de código que contienen funciones y herramientas especificas para realizar tareas más eficientes, de esta manera permite a los desarroladores no tener que iniciar de cero y concentrarse en el análisis.\n",
    "\n",
    "### Pip\n",
    "\n",
    "Es una herramienta para instalar paquetes lisbrerias y paquetes.\n",
    "\n",
    "### NumPy\n",
    "\n",
    "Es una librería para manejar calculos númericos con matrices y arrays.\n",
    "\n",
    "### Pandas\n",
    "\n",
    "Es una libreria enfocada en la manupulación y el análisis de datos.\n",
    "\n",
    "### Seaborn\n",
    "\n",
    "Es una librería que sirve para la visualización de datos y creación de gráficos.\n",
    "\n",
    "### Matplotlib\n",
    "\n",
    "Es una librería para la creación de graficos 2D, puede generar desde líneas a visualizaciones complejas.\n",
    "\n",
    "### scikit-learn\n",
    "\n",
    "Es una librería para el aprendizaje automático. Incluye herramientas para la clasificación, regresión, clustering y reducción de dimensionalidad.\n",
    "\n",
    "### Bokeh\n",
    "\n",
    "Es una librería para la visualización interactiva de datos. Permite crear gráficos interactivos y dashboards que se pueden visualizar en el navegador.\n",
    "\n",
    "### Folium\n",
    "\n",
    "Es una librería para crear mapas interactivos que se pueden personalizar y visualizar en un navegador."
   ]
  },
  {
   "cell_type": "code",
   "execution_count": 93,
   "id": "edac3d03-81ee-4475-b193-d37717dac4d2",
   "metadata": {},
   "outputs": [
    {
     "name": "stdout",
     "output_type": "stream",
     "text": [
      "{'Oscar': (44, 88, 1.82, True), 'Juan': (41, 80, 1.72, False), 'Diana': (41, 65, 1.62, False), 'Lucia': (42, 58, 1.52, False), 'Sara': (14, 62, 1.66, True), 'María': (12, 50, 1.63, True), 'Chabela': (55, 75, 1.53, False), 'Nico': (14, 60, 1.7, True)}\n"
     ]
    }
   ],
   "source": [
    "# Diccionario para almacenar información de 8 personas\n",
    "# los nombres seran las claves\n",
    "# los valores serán tuplas con la edad, peso, estatura, estudia\n",
    "\n",
    "# primero se define el diccionario con lo solicitado\n",
    "\n",
    "personas = {\n",
    "    \"Oscar\":(44, 88, 1.82, True),\n",
    "    \"Juan\":(41, 80, 1.72, False),\n",
    "    \"Diana\":(41,65,1.62, False),\n",
    "    \"Lucia\":(42,58,1.52, False),\n",
    "    \"Sara\":(14,62,1.66, True),\n",
    "    \"María\":(12,50,1.63, True),\n",
    "    \"Chabela\":(55,75,1.53, False),\n",
    "    \"Nico\":(14,60,1.70, True),\n",
    "}\n",
    "# Se imprime para verificar la información que se cargo en el dicionario\n",
    "print (personas)\n",
    "\n"
   ]
  },
  {
   "cell_type": "markdown",
   "id": "43cadad2-7729-458c-bb83-77d0d45a6a47",
   "metadata": {},
   "source": [
    "# CONCLUSIONES\n",
    "\n",
    "1. El conocimiento y usos de las distintas librerias son la herramienta de esencial de los analista de datos, toda vez que cada una de ellas nos ayudara en ayudará a realizar tareas compleja de manera mucha mas eficiente.\n",
    "2. El uso de los Jupyter Notebook es una herramienta muy util para presentar información de manera clara, estructurada y permite de manera eficiente el trabajo colaborativo.\n",
    "3. El uso de los diccionarios en Paython es muy interesante de trabajar y son una herramienta muy util para el análisis de datos.  "
   ]
  },
  {
   "cell_type": "markdown",
   "id": "79148541-1baf-4aad-8cb6-b5d916131fcd",
   "metadata": {},
   "source": [
    "# REFERENCIAS\n",
    "\n",
    "* Alex Galea. (2018). Applied Data Science with Python and Jupyter: Use Powerful Industry-standard Tools to Unlock New, Actionable Insights From Your Data: Vol. 1st edition. Packt Publishing. (pp. 1-20).\r\n",
    "* Boschetti, A., & Massaron, L. (2016). Python Data Science Essentials - Second Edition (Vol. 0002). Packt Publishing. (pp. 33-51).\r\n",
    "* Alvarez, C. (2020) Introducción al Jupyter Notebook y aplicaciones básicas. Medellín, Colombia. [OVI]\r\n",
    "* Thakur, A. (2016). Python: Real-World Data Science. Packt Publishing. (pp. 199 - 220).\r\n",
    "* Kane, F. (2017). Hands-On Data Science and Python Machine Learning. Packt Publishing. (pp. 20-39).\r\n",
    ". [OVI]\r\n"
   ]
  }
 ],
 "metadata": {
  "kernelspec": {
   "display_name": "Python 3 (ipykernel)",
   "language": "python",
   "name": "python3"
  },
  "language_info": {
   "codemirror_mode": {
    "name": "ipython",
    "version": 3
   },
   "file_extension": ".py",
   "mimetype": "text/x-python",
   "name": "python",
   "nbconvert_exporter": "python",
   "pygments_lexer": "ipython3",
   "version": "3.12.4"
  }
 },
 "nbformat": 4,
 "nbformat_minor": 5
}
